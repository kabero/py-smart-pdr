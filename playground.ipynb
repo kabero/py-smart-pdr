{
 "cells": [
  {
   "cell_type": "code",
   "execution_count": null,
   "metadata": {},
   "outputs": [],
   "source": []
  },
  {
   "cell_type": "code",
   "execution_count": 4,
   "metadata": {},
   "outputs": [],
   "source": [
    "import numpy as np\n",
    "import matplotlib.pyplot as plt\n",
    "import glob\n",
    "import csv "
   ]
  },
  {
   "cell_type": "code",
   "execution_count": null,
   "metadata": {},
   "outputs": [],
   "source": []
  },
  {
   "cell_type": "code",
   "execution_count": null,
   "metadata": {},
   "outputs": [],
   "source": [
    "def make_pathlist(path_name,extensions):\n",
    "    root_path = f'{path_name}\\\\' \n",
    "    target = glob.glob(f'{root_path}*.{extensions}')\n",
    "    return target\n",
    "\n",
    "def data_contents_picture(target):\n",
    "    imgs = np.array([cv2.imread(path) for path in target])#,cv2.IMREAD_GRAYSCALE\n",
    "    # print(f'imgs shape: {imgs.shape,len(target[0])}')\n",
    "    imgs_all = imgs\n",
    "    imgs_each = imgs\n",
    "    imgs_all = imgs_all[:,:,128:512,1]\n",
    "    imgs_each = imgs_each[:,:,128:512,1]\n",
    "    print(f'imgs_all: {imgs_all.shape}, imgs_each: {imgs_each.shape}')\n",
    "    avg_rows_all = np.mean(imgs_all,axis=2)\n",
    "    avg_rows_each = np.mean(imgs_each,axis=2)\n",
    "    print(f'avg_rows_all: {avg_rows_all.shape}, avg_rows_each: {avg_rows_each.shape}')\n",
    "    return avg_rows_all,avg_rows_each"
   ]
  },
  {
   "cell_type": "code",
   "execution_count": 2,
   "metadata": {},
   "outputs": [
    {
     "name": "stdout",
     "output_type": "stream",
     "text": [
      "Help on function asfreq in module pandas.core.frame:\n",
      "\n",
      "asfreq(self, freq: 'Frequency', method=None, how: 'str | None' = None, normalize: 'bool' = False, fill_value=None) -> 'DataFrame'\n",
      "    Convert time series to specified frequency.\n",
      "    \n",
      "    Returns the original data conformed to a new index with the specified\n",
      "    frequency.\n",
      "    \n",
      "    If the index of this DataFrame is a :class:`~pandas.PeriodIndex`, the new index\n",
      "    is the result of transforming the original index with\n",
      "    :meth:`PeriodIndex.asfreq <pandas.PeriodIndex.asfreq>` (so the original index\n",
      "    will map one-to-one to the new index).\n",
      "    \n",
      "    Otherwise, the new index will be equivalent to ``pd.date_range(start, end,\n",
      "    freq=freq)`` where ``start`` and ``end`` are, respectively, the first and\n",
      "    last entries in the original index (see :func:`pandas.date_range`). The\n",
      "    values corresponding to any timesteps in the new index which were not present\n",
      "    in the original index will be null (``NaN``), unless a method for filling\n",
      "    such unknowns is provided (see the ``method`` parameter below).\n",
      "    \n",
      "    The :meth:`resample` method is more appropriate if an operation on each group of\n",
      "    timesteps (such as an aggregate) is necessary to represent the data at the new\n",
      "    frequency.\n",
      "    \n",
      "    Parameters\n",
      "    ----------\n",
      "    freq : DateOffset or str\n",
      "        Frequency DateOffset or string.\n",
      "    method : {'backfill'/'bfill', 'pad'/'ffill'}, default None\n",
      "        Method to use for filling holes in reindexed Series (note this\n",
      "        does not fill NaNs that already were present):\n",
      "    \n",
      "        * 'pad' / 'ffill': propagate last valid observation forward to next\n",
      "          valid\n",
      "        * 'backfill' / 'bfill': use NEXT valid observation to fill.\n",
      "    how : {'start', 'end'}, default end\n",
      "        For PeriodIndex only (see PeriodIndex.asfreq).\n",
      "    normalize : bool, default False\n",
      "        Whether to reset output index to midnight.\n",
      "    fill_value : scalar, optional\n",
      "        Value to use for missing values, applied during upsampling (note\n",
      "        this does not fill NaNs that already were present).\n",
      "    \n",
      "    Returns\n",
      "    -------\n",
      "    DataFrame\n",
      "        DataFrame object reindexed to the specified frequency.\n",
      "    \n",
      "    See Also\n",
      "    --------\n",
      "    reindex : Conform DataFrame to new index with optional filling logic.\n",
      "    \n",
      "    Notes\n",
      "    -----\n",
      "    To learn more about the frequency strings, please see `this link\n",
      "    <https://pandas.pydata.org/pandas-docs/stable/user_guide/timeseries.html#offset-aliases>`__.\n",
      "    \n",
      "    Examples\n",
      "    --------\n",
      "    Start by creating a series with 4 one minute timestamps.\n",
      "    \n",
      "    >>> index = pd.date_range('1/1/2000', periods=4, freq='T')\n",
      "    >>> series = pd.Series([0.0, None, 2.0, 3.0], index=index)\n",
      "    >>> df = pd.DataFrame({'s': series})\n",
      "    >>> df\n",
      "                           s\n",
      "    2000-01-01 00:00:00    0.0\n",
      "    2000-01-01 00:01:00    NaN\n",
      "    2000-01-01 00:02:00    2.0\n",
      "    2000-01-01 00:03:00    3.0\n",
      "    \n",
      "    Upsample the series into 30 second bins.\n",
      "    \n",
      "    >>> df.asfreq(freq='30S')\n",
      "                           s\n",
      "    2000-01-01 00:00:00    0.0\n",
      "    2000-01-01 00:00:30    NaN\n",
      "    2000-01-01 00:01:00    NaN\n",
      "    2000-01-01 00:01:30    NaN\n",
      "    2000-01-01 00:02:00    2.0\n",
      "    2000-01-01 00:02:30    NaN\n",
      "    2000-01-01 00:03:00    3.0\n",
      "    \n",
      "    Upsample again, providing a ``fill value``.\n",
      "    \n",
      "    >>> df.asfreq(freq='30S', fill_value=9.0)\n",
      "                           s\n",
      "    2000-01-01 00:00:00    0.0\n",
      "    2000-01-01 00:00:30    9.0\n",
      "    2000-01-01 00:01:00    NaN\n",
      "    2000-01-01 00:01:30    9.0\n",
      "    2000-01-01 00:02:00    2.0\n",
      "    2000-01-01 00:02:30    9.0\n",
      "    2000-01-01 00:03:00    3.0\n",
      "    \n",
      "    Upsample again, providing a ``method``.\n",
      "    \n",
      "    >>> df.asfreq(freq='30S', method='bfill')\n",
      "                           s\n",
      "    2000-01-01 00:00:00    0.0\n",
      "    2000-01-01 00:00:30    NaN\n",
      "    2000-01-01 00:01:00    NaN\n",
      "    2000-01-01 00:01:30    2.0\n",
      "    2000-01-01 00:02:00    2.0\n",
      "    2000-01-01 00:02:30    3.0\n",
      "    2000-01-01 00:03:00    3.0\n",
      "\n"
     ]
    }
   ],
   "source": [
    "import pandas as pd\n",
    "\n",
    "help(pd.DataFrame.asfreq)"
   ]
  },
  {
   "cell_type": "code",
   "execution_count": 1,
   "metadata": {},
   "outputs": [
    {
     "name": "stdout",
     "output_type": "stream",
     "text": [
      "Help on function unwrap in module numpy:\n",
      "\n",
      "unwrap(p, discont=None, axis=-1, *, period=6.283185307179586)\n",
      "    Unwrap by taking the complement of large deltas with respect to the period.\n",
      "    \n",
      "    This unwraps a signal `p` by changing elements which have an absolute\n",
      "    difference from their predecessor of more than ``max(discont, period/2)``\n",
      "    to their `period`-complementary values.\n",
      "    \n",
      "    For the default case where `period` is :math:`2\\pi` and `discont` is\n",
      "    :math:`\\pi`, this unwraps a radian phase `p` such that adjacent differences\n",
      "    are never greater than :math:`\\pi` by adding :math:`2k\\pi` for some\n",
      "    integer :math:`k`.\n",
      "    \n",
      "    Parameters\n",
      "    ----------\n",
      "    p : array_like\n",
      "        Input array.\n",
      "    discont : float, optional\n",
      "        Maximum discontinuity between values, default is ``period/2``.\n",
      "        Values below ``period/2`` are treated as if they were ``period/2``.\n",
      "        To have an effect different from the default, `discont` should be\n",
      "        larger than ``period/2``.\n",
      "    axis : int, optional\n",
      "        Axis along which unwrap will operate, default is the last axis.\n",
      "    period: float, optional\n",
      "        Size of the range over which the input wraps. By default, it is\n",
      "        ``2 pi``.\n",
      "    \n",
      "        .. versionadded:: 1.21.0\n",
      "    \n",
      "    Returns\n",
      "    -------\n",
      "    out : ndarray\n",
      "        Output array.\n",
      "    \n",
      "    See Also\n",
      "    --------\n",
      "    rad2deg, deg2rad\n",
      "    \n",
      "    Notes\n",
      "    -----\n",
      "    If the discontinuity in `p` is smaller than ``period/2``,\n",
      "    but larger than `discont`, no unwrapping is done because taking\n",
      "    the complement would only make the discontinuity larger.\n",
      "    \n",
      "    Examples\n",
      "    --------\n",
      "    >>> phase = np.linspace(0, np.pi, num=5)\n",
      "    >>> phase[3:] += np.pi\n",
      "    >>> phase\n",
      "    array([ 0.        ,  0.78539816,  1.57079633,  5.49778714,  6.28318531]) # may vary\n",
      "    >>> np.unwrap(phase)\n",
      "    array([ 0.        ,  0.78539816,  1.57079633, -0.78539816,  0.        ]) # may vary\n",
      "    >>> np.unwrap([0, 1, 2, -1, 0], period=4)\n",
      "    array([0, 1, 2, 3, 4])\n",
      "    >>> np.unwrap([ 1, 2, 3, 4, 5, 6, 1, 2, 3], period=6)\n",
      "    array([1, 2, 3, 4, 5, 6, 7, 8, 9])\n",
      "    >>> np.unwrap([2, 3, 4, 5, 2, 3, 4, 5], period=4)\n",
      "    array([2, 3, 4, 5, 6, 7, 8, 9])\n",
      "    >>> phase_deg = np.mod(np.linspace(0 ,720, 19), 360) - 180\n",
      "    >>> np.unwrap(phase_deg, period=360)\n",
      "    array([-180., -140., -100.,  -60.,  -20.,   20.,   60.,  100.,  140.,\n",
      "            180.,  220.,  260.,  300.,  340.,  380.,  420.,  460.,  500.,\n",
      "            540.])\n",
      "\n"
     ]
    }
   ],
   "source": [
    "import numpy as np\n",
    "\n",
    "help(np.unwrap)"
   ]
  },
  {
   "cell_type": "code",
   "execution_count": 30,
   "metadata": {},
   "outputs": [],
   "source": [
    "from plyfile import PlyData, PlyElement\n",
    "import numpy as np \n",
    "import matplotlib.pyplot as plt\n",
    "\n",
    "\n",
    "plypath = \"data/huayi_handheld1/processed/trajectory.ply\" \n",
    "plydata = PlyData.read(plypath)\n",
    "plydata = np.array(plydata)[0]\n",
    "\n",
    "new = []\n",
    "for e in plydata:\n",
    "    new.append([ee for ee in e])\n",
    "plydata = np.array(new)\n",
    "    "
   ]
  },
  {
   "cell_type": "code",
   "execution_count": 31,
   "metadata": {},
   "outputs": [],
   "source": [
    "data = {}\n",
    "data['x'], data['y'], data['z'] = plydata[:, 0], plydata[:, 1], plydata[:, 2]"
   ]
  },
  {
   "cell_type": "code",
   "execution_count": 34,
   "metadata": {},
   "outputs": [
    {
     "data": {
      "text/plain": [
       "[<matplotlib.lines.Line2D at 0x10bd21cd0>]"
      ]
     },
     "execution_count": 34,
     "metadata": {},
     "output_type": "execute_result"
    },
    {
     "data": {
      "image/png": "[encoded data removed]",
      "text/plain": [
       "<Figure size 432x288 with 1 Axes>"
      ]
     },
     "metadata": {
      "needs_background": "light"
     },
     "output_type": "display_data"
    }
   ],
   "source": [
    "plt.plot(data['x'][:len(data['x'])//2], data['y'][:len(data['x'])//2])"
   ]
  },
  {
   "cell_type": "code",
   "execution_count": 48,
   "metadata": {},
   "outputs": [],
   "source": [
    "import utils\n",
    "\n",
    "gyropath = \"data/huayi_handheld1/gyro.txt\"\n",
    "gyrodata = utils.read_data(gyropath, unit=\"nano\")"
   ]
  },
  {
   "cell_type": "code",
   "execution_count": 70,
   "metadata": {},
   "outputs": [
    {
     "data": {
      "text/plain": [
       "[<matplotlib.lines.Line2D at 0x10cc29fa0>]"
      ]
     },
     "execution_count": 70,
     "metadata": {},
     "output_type": "execute_result"
    },
    {
     "data": {
      "image/png": "[encoded data removed]",
      "text/plain": [
       "<Figure size 432x288 with 1 Axes>"
      ]
     },
     "metadata": {
      "needs_background": "light"
     },
     "output_type": "display_data"
    }
   ],
   "source": [
    "gyro_t = gyrodata[:, 0], [1, 1, 1, 1]\n",
    "gyro_x = gyrodata[:, 1]\n",
    "gyro_y = gyrodata[:, 2]\n",
    "gyro_z = gyrodata[:, 3]\n",
    "\n",
    "win_len = 1000000\n",
    "gyro_x = np.convolve(gyro_x, np.ones(win_len))\n",
    "plt.plot(gyro_x)"
   ]
  },
  {
   "cell_type": "code",
   "execution_count": 73,
   "metadata": {},
   "outputs": [
    {
     "name": "stdout",
     "output_type": "stream",
     "text": [
      "Help on function cumsum in module numpy:\n",
      "\n",
      "cumsum(a, axis=None, dtype=None, out=None)\n",
      "    Return the cumulative sum of the elements along a given axis.\n",
      "    \n",
      "    Parameters\n",
      "    ----------\n",
      "    a : array_like\n",
      "        Input array.\n",
      "    axis : int, optional\n",
      "        Axis along which the cumulative sum is computed. The default\n",
      "        (None) is to compute the cumsum over the flattened array.\n",
      "    dtype : dtype, optional\n",
      "        Type of the returned array and of the accumulator in which the\n",
      "        elements are summed.  If `dtype` is not specified, it defaults\n",
      "        to the dtype of `a`, unless `a` has an integer dtype with a\n",
      "        precision less than that of the default platform integer.  In\n",
      "        that case, the default platform integer is used.\n",
      "    out : ndarray, optional\n",
      "        Alternative output array in which to place the result. It must\n",
      "        have the same shape and buffer length as the expected output\n",
      "        but the type will be cast if necessary. See :ref:`ufuncs-output-type` for\n",
      "        more details.\n",
      "    \n",
      "    Returns\n",
      "    -------\n",
      "    cumsum_along_axis : ndarray.\n",
      "        A new array holding the result is returned unless `out` is\n",
      "        specified, in which case a reference to `out` is returned. The\n",
      "        result has the same size as `a`, and the same shape as `a` if\n",
      "        `axis` is not None or `a` is a 1-d array.\n",
      "    \n",
      "    See Also\n",
      "    --------\n",
      "    sum : Sum array elements.\n",
      "    trapz : Integration of array values using the composite trapezoidal rule.\n",
      "    diff : Calculate the n-th discrete difference along given axis.\n",
      "    \n",
      "    Notes\n",
      "    -----\n",
      "    Arithmetic is modular when using integer types, and no error is\n",
      "    raised on overflow.\n",
      "    \n",
      "    ``cumsum(a)[-1]`` may not be equal to ``sum(a)`` for floating-point\n",
      "    values since ``sum`` may use a pairwise summation routine, reducing\n",
      "    the roundoff-error. See `sum` for more information.\n",
      "    \n",
      "    Examples\n",
      "    --------\n",
      "    >>> a = np.array([[1,2,3], [4,5,6]])\n",
      "    >>> a\n",
      "    array([[1, 2, 3],\n",
      "           [4, 5, 6]])\n",
      "    >>> np.cumsum(a)\n",
      "    array([ 1,  3,  6, 10, 15, 21])\n",
      "    >>> np.cumsum(a, dtype=float)     # specifies type of output value(s)\n",
      "    array([  1.,   3.,   6.,  10.,  15.,  21.])\n",
      "    \n",
      "    >>> np.cumsum(a,axis=0)      # sum over rows for each of the 3 columns\n",
      "    array([[1, 2, 3],\n",
      "           [5, 7, 9]])\n",
      "    >>> np.cumsum(a,axis=1)      # sum over columns for each of the 2 rows\n",
      "    array([[ 1,  3,  6],\n",
      "           [ 4,  9, 15]])\n",
      "    \n",
      "    ``cumsum(b)[-1]`` may not be equal to ``sum(b)``\n",
      "    \n",
      "    >>> b = np.array([1, 2e-9, 3e-9] * 1000000)\n",
      "    >>> b.cumsum()[-1]\n",
      "    1000000.0050045159\n",
      "    >>> b.sum()\n",
      "    1000000.0050000029\n",
      "\n"
     ]
    }
   ],
   "source": [
    "help(np.cumsum)"
   ]
  },
  {
   "cell_type": "code",
   "execution_count": 2,
   "metadata": {},
   "outputs": [
    {
     "name": "stdout",
     "output_type": "stream",
     "text": [
      "[10]\n"
     ]
    }
   ],
   "source": [
    "a = []\n",
    "b = 20\n",
    "\n",
    "def my_func(lis1):\n",
    "    lis1.append(10)\n",
    "\n",
    "my_func(a)\n",
    "print(a)"
   ]
  },
  {
   "cell_type": "code",
   "execution_count": 5,
   "metadata": {},
   "outputs": [
    {
     "ename": "TypeError",
     "evalue": "'str' object does not support item assignment",
     "output_type": "error",
     "traceback": [
      "\u001b[0;31m---------------------------------------------------------------------------\u001b[0m",
      "\u001b[0;31mTypeError\u001b[0m                                 Traceback (most recent call last)",
      "\u001b[1;32m/Users/kabe/repo/py_smart_pdr/playground.ipynb Cell 14'\u001b[0m in \u001b[0;36m<cell line: 2>\u001b[0;34m()\u001b[0m\n\u001b[1;32m      <a href='vscode-notebook-cell:/Users/kabe/repo/py_smart_pdr/playground.ipynb#ch0000013?line=0'>1</a>\u001b[0m s \u001b[39m=\u001b[39m \u001b[39m\"\u001b[39m\u001b[39mhello\u001b[39m\u001b[39m\"\u001b[39m\n\u001b[0;32m----> <a href='vscode-notebook-cell:/Users/kabe/repo/py_smart_pdr/playground.ipynb#ch0000013?line=1'>2</a>\u001b[0m s[\u001b[39m1\u001b[39m] \u001b[39m=\u001b[39m \u001b[39m\"\u001b[39m\u001b[39mw\u001b[39m\u001b[39m\"\u001b[39m\n\u001b[1;32m      <a href='vscode-notebook-cell:/Users/kabe/repo/py_smart_pdr/playground.ipynb#ch0000013?line=3'>4</a>\u001b[0m l \u001b[39m=\u001b[39m [\u001b[39m1\u001b[39m, \u001b[39m2\u001b[39m, \u001b[39m3\u001b[39m, \u001b[39m4\u001b[39m, \u001b[39m5\u001b[39m]\n\u001b[1;32m      <a href='vscode-notebook-cell:/Users/kabe/repo/py_smart_pdr/playground.ipynb#ch0000013?line=4'>5</a>\u001b[0m l[\u001b[39m1\u001b[39m] \u001b[39m=\u001b[39m \u001b[39m100\u001b[39m\n",
      "\u001b[0;31mTypeError\u001b[0m: 'str' object does not support item assignment"
     ]
    }
   ],
   "source": [
    "# s = \"hello\"\n",
    "# s[1] = \"w\"\n",
    "\n",
    "l = [1, 2, 3, 4, 5]\n",
    "l[1] = 100"
   ]
  },
  {
   "cell_type": "code",
   "execution_count": null,
   "metadata": {},
   "outputs": [],
   "source": []
  }
 ],
 "metadata": {
  "interpreter": {
   "hash": "a22efb1a772eac9401265581e31d0c2ce52400298acfe56e10be7cf22ecc1d5a"
  },
  "kernelspec": {
   "display_name": "Python 3.9.2 64-bit ('3.9.2')",
   "language": "python",
   "name": "python3"
  },
  "language_info": {
   "codemirror_mode": {
    "name": "ipython",
    "version": 3
   },
   "file_extension": ".py",
   "mimetype": "text/x-python",
   "name": "python",
   "nbconvert_exporter": "python",
   "pygments_lexer": "ipython3",
   "version": "3.9.1"
  },
  "orig_nbformat": 4
 },
 "nbformat": 4,
 "nbformat_minor": 2
}
